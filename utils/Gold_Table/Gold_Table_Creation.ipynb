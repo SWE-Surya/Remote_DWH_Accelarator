{
 "cells": [
  {
   "cell_type": "code",
   "execution_count": 0,
   "metadata": {
    "application/vnd.databricks.v1+cell": {
     "cellMetadata": {
      "byteLimit": 2048000,
      "rowLimit": 10000
     },
     "inputWidgets": {},
     "nuid": "c2bf4833-1719-40bf-adc0-8214011e3ca2",
     "showTitle": false,
     "tableResultSettingsMap": {},
     "title": ""
    }
   },
   "outputs": [],
   "source": [
    "%python\n",
    "# notebook2\n",
    "\n",
    "class ValueProcessor:\n",
    "    def __init__(self, values):\n",
    "        self.values = values\n",
    "\n",
    "    def create_table(self, user_input):\n",
    "        if \"Application\" in user_input:\n",
    "            table_name = f\"GOLD.{user_input.upper()}\"\n",
    "            insert_table_sql = f\"\"\"\n",
    "            CREATE OR REPLACE VIEW {table_name} AS\n",
    "            SELECT \n",
    "            * \n",
    "            FROM SILVER.FACT_APPLICATION;\n",
    "            \"\"\"\n",
    "            spark.sql(insert_table_sql)\n",
    "            print(f\"Data in the {table_name} inserted successfully!\")\n",
    "\n",
    "        elif \"Account\" in user_input:\n",
    "            table_name = f\"GOLD.{user_input.upper()}\"\n",
    "            insert_table_sql = f\"\"\"\n",
    "            CREATE OR REPLACE VIEW {table_name} AS\n",
    "            SELECT \n",
    "            * \n",
    "            FROM SILVER.DIM_ACCOUNT;\n",
    "            \"\"\"\n",
    "            spark.sql(insert_table_sql)\n",
    "            print(f\"Data in the {table_name} inserted successfully!\")\n",
    "\n",
    "        elif \"Contact\" in user_input:\n",
    "            table_name = f\"GOLD.{user_input.upper()}\"\n",
    "            insert_table_sql = f\"\"\"\n",
    "            CREATE OR REPLACE VIEW {table_name} AS\n",
    "            SELECT \n",
    "            * \n",
    "            FROM SILVER.DIM_CONTACT;\n",
    "            \"\"\"\n",
    "            spark.sql(insert_table_sql)\n",
    "            print(f\"Data in the {table_name} inserted successfully!\")\n",
    "        else:\n",
    "            print(\"No valid table selected. Skipping table ingestion.\")\n",
    "\n",
    "    def process_value(self):\n",
    "        for value in self.values:\n",
    "            self.create_table(value)\n",
    "        return f\"Processed values: {', '.join(self.values)}\"\n",
    "\n",
    "# Accept the multiselect values passed as a comma-separated string\n",
    "dbutils.widgets.text(\"value\", \"\", \"Input Tables\")\n",
    "value = dbutils.widgets.get(\"value\").split(\",\")\n",
    "\n",
    "print(value)\n",
    "\n",
    "processor = ValueProcessor(value)\n",
    "result = processor.process_value()\n",
    "\n",
    "#Return the result\n",
    "#dbutils.notebook.exit(result)"
   ]
  }
 ],
 "metadata": {
  "application/vnd.databricks.v1+notebook": {
   "computePreferences": null,
   "dashboards": [],
   "environmentMetadata": {
    "base_environment": "",
    "client": "1"
   },
   "language": "python",
   "notebookMetadata": {
    "mostRecentlyExecutedCommandWithImplicitDF": {
     "commandId": 3462957330148441,
     "dataframes": [
      "_sqldf"
     ]
    },
    "pythonIndentUnit": 4
   },
   "notebookName": "Gold_Table_Creation",
   "widgets": {}
  },
  "language_info": {
   "name": "python"
  }
 },
 "nbformat": 4,
 "nbformat_minor": 0
}
