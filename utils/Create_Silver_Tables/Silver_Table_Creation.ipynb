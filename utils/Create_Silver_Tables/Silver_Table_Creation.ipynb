{
 "cells": [
  {
   "cell_type": "code",
   "execution_count": 0,
   "metadata": {
    "application/vnd.databricks.v1+cell": {
     "cellMetadata": {},
     "inputWidgets": {},
     "nuid": "3d3fe994-0e60-4540-be12-2901a90bf054",
     "showTitle": false,
     "tableResultSettingsMap": {},
     "title": ""
    }
   },
   "outputs": [],
   "source": [
    "print(\"hello brother\")"
   ]
  },
  {
   "cell_type": "code",
   "execution_count": 0,
   "metadata": {
    "application/vnd.databricks.v1+cell": {
     "cellMetadata": {
      "byteLimit": 2048000,
      "rowLimit": 10000
     },
     "inputWidgets": {},
     "nuid": "380e1b63-2acf-45fd-ad50-82ff2440a7ac",
     "showTitle": false,
     "tableResultSettingsMap": {},
     "title": ""
    }
   },
   "outputs": [],
   "source": [
    "%python\n",
    "# notebook2\n",
    "\n",
    "class ValueProcessor:\n",
    "    def __init__(self, values):\n",
    "        self.values = values\n",
    "\n",
    "    def create_table(self, user_input):\n",
    "        if \"Account\" in user_input:\n",
    "            table_name = f\"SILVER.DIM_{user_input.upper()}\"\n",
    "            create_table_sql = f\"\"\"\n",
    "            CREATE OR REPLACE TABLE {table_name} (\n",
    "            ACCOUNT_SK long GENERATED ALWAYS AS IDENTITY,\n",
    "            ACCOUNT_ID VARCHAR(18),\n",
    "            NAME VARCHAR(255),\n",
    "            ADDRESS VARCHAR(255),\n",
    "            INDUSTRY VARCHAR(255),\n",
    "            SFDC_CREATED_DATE TIMESTAMP,\n",
    "            SFDC_CREATED_BY VARCHAR(256),\n",
    "            SFDC_LAST_MODIFIED_DATE TIMESTAMP,\n",
    "            SFDC_LAST_MODIFIED_BY VARCHAR(256),\n",
    "            ROW_EFFECTIVE_FROM_DATE TIMESTAMP,\n",
    "            ROW_EFFECTIVE_TO_DATE TIMESTAMP,\n",
    "            ROW_ACTIVE_FLAG BOOLEAN,\n",
    "            ETL_CREATED_DATE TIMESTAMP,\n",
    "            ETL_CREATED_USER VARCHAR(80),\n",
    "            ETL_LAST_UPDATED_DATE TIMESTAMP,\n",
    "            ETL_LAST_UPDATED_USER VARCHAR(80),\n",
    "            ETL_RUN_ID VARCHAR(255)\n",
    "            );\n",
    "\n",
    "            \"\"\"\n",
    "            spark.sql(create_table_sql)\n",
    "            print(f\"Table {table_name} created successfully!\")\n",
    "\n",
    "        elif \"Application\" in user_input:\n",
    "            table_name = f\"SILVER.FACT_{user_input.upper()}\"\n",
    "            create_table_sql = f\"\"\"\n",
    "            CREATE OR REPLACE TABLE {table_name} (\n",
    "            APPLICATION_SK long GENERATED ALWAYS AS IDENTITY,\n",
    "            APPLICATION_ID VARCHAR(18),\n",
    "            APPLICATION_NAME VARCHAR(256),\n",
    "            SFDC_CREATED_DATE TIMESTAMP,\n",
    "            SFDC_CREATED_BY VARCHAR(256),\n",
    "            SFDC_LAST_MODIFIED_DATE TIMESTAMP,\n",
    "            SFDC_LAST_MODIFIED_BY VARCHAR(256),\n",
    "            ROW_EFFECTIVE_FROM_DATE TIMESTAMP, --To store time of insertion of a record from bronze layer to silver layer for SCD\n",
    "            ROW_EFFECTIVE_TO_DATE TIMESTAMP, --To store time of updation of a record from bronze layer to silver layer for SCD\n",
    "            ROW_ACTIVE_FLAG BOOLEAN, --This field will show either a record is currently active or not for SCD ('true' means record is active and vice versa)\n",
    "            ETL_CREATED_DATE TIMESTAMP, --To store time at which record got inserted in Data Warehouse\n",
    "            ETL_CREATED_USER VARCHAR(80),  --To store Username who has inserted a record in Data Warehouse\n",
    "            ETL_LAST_UPDATED_DATE TIMESTAMP, --To store time at which record got updated in Data Warehouse\n",
    "            ETL_LAST_UPDATED_USER VARCHAR(80), --To store Username who has updated a record in Data Warehouse\n",
    "            ETL_RUN_ID VARCHAR(255)\n",
    "            );\n",
    "            \"\"\"\n",
    "            spark.sql(create_table_sql)\n",
    "            print(f\"Table {table_name} created successfully!\")\n",
    "\n",
    "        elif \"Contact\" in user_input:\n",
    "            table_name = f\"SILVER.DIM_{user_input.upper()}\"\n",
    "            create_table_sql = f\"\"\"\n",
    "            CREATE OR REPLACE TABLE {table_name} (\n",
    "            CONTACT_SK long GENERATED ALWAYS AS IDENTITY,\n",
    "            CONTACT_ID VARCHAR(18),\n",
    "            NAME VARCHAR(255),\n",
    "            MAILING_STREET VARCHAR(855),\n",
    "            EMAIL VARCHAR(255),\n",
    "            --- to be fetched from the account table\n",
    "            ACCOUNT_ID VARCHAR(18),\n",
    "            ACCOUNT_NUMBER VARCHAR(255),\n",
    "            TYPE VARCHAR(255),\n",
    "            INDUSTRY VARCHAR(255),\n",
    "            ANNULARY_REVENUE DECIMAL(18,0),\n",
    "            ACTIVE BOOLEAN,\n",
    "            --------\n",
    "            SFDC_CREATED_DATE TIMESTAMP,\n",
    "            SFDC_CREATED_BY VARCHAR(256),\n",
    "            SFDC_LAST_MODIFIED_DATE TIMESTAMP,\n",
    "            SFDC_LAST_MODIFIED_BY VARCHAR(256),\n",
    "            ROW_EFFECTIVE_FROM_DATE TIMESTAMP, --To store time of insertion of a record from bronze layer to silver layer for SCD\n",
    "            ROW_EFFECTIVE_TO_DATE TIMESTAMP, --To store time of updation of a record from bronze layer to silver layer for SCD\n",
    "            ROW_ACTIVE_FLAG BOOLEAN, --This field will show either a record is currently active or not for SCD ('true' means record is active and vice versa)\n",
    "            ETL_CREATED_DATE TIMESTAMP, --To store time at which record got inserted in Data Warehouse\n",
    "            ETL_CREATED_USER VARCHAR(80),  --To store Username who has inserted a record in Data Warehouse\n",
    "            ETL_LAST_UPDATED_DATE TIMESTAMP, --To store time at which record got updated in Data Warehouse\n",
    "            ETL_LAST_UPDATED_USER VARCHAR(80), --To store Username who has updated a record in Data Warehouse\n",
    "            ETL_RUN_ID VARCHAR(255)\n",
    "            );\n",
    "            \"\"\"\n",
    "            spark.sql(create_table_sql)\n",
    "            print(f\"Table {table_name} created successfully!\")\n",
    "        else:\n",
    "            print(\"No valid table selected. Skipping table creation.\")\n",
    "\n",
    "    def process_value(self):\n",
    "        for value in self.values:\n",
    "            self.create_table(value)\n",
    "        return f\"Processed values: {', '.join(self.values)}\"\n",
    "\n",
    "# Accept the multiselect values passed as a comma-separated string\n",
    "dbutils.widgets.text(\"value\", \"\", \"Input Tables\")\n",
    "value = dbutils.widgets.get(\"value\").split(\",\")\n",
    "\n",
    "processor = ValueProcessor(value)\n",
    "result = processor.process_value()\n",
    "\n",
    "# Return the result\n",
    "\n",
    "dbutils.notebook.exit(result)"
   ]
  }
 ],
 "metadata": {
  "application/vnd.databricks.v1+notebook": {
   "computePreferences": null,
   "dashboards": [],
   "environmentMetadata": {
    "base_environment": "",
    "client": "1"
   },
   "language": "python",
   "notebookMetadata": {
    "mostRecentlyExecutedCommandWithImplicitDF": {
     "commandId": 1320601673678297,
     "dataframes": [
      "_sqldf"
     ]
    },
    "pythonIndentUnit": 4
   },
   "notebookName": "Silver_Table_Creation",
   "widgets": {}
  },
  "language_info": {
   "name": "python"
  }
 },
 "nbformat": 4,
 "nbformat_minor": 0
}
