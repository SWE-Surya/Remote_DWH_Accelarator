{
 "cells": [
  {
   "cell_type": "code",
   "execution_count": 0,
   "metadata": {
    "application/vnd.databricks.v1+cell": {
     "cellMetadata": {
      "byteLimit": 2048000,
      "implicitDf": true,
      "rowLimit": 10000
     },
     "inputWidgets": {},
     "nuid": "67bb0c11-a544-49b2-ae8a-e88250b0da0b",
     "showTitle": false,
     "tableResultSettingsMap": {},
     "title": ""
    }
   },
   "outputs": [],
   "source": [
    "%run \"/Workspace/Users/suryamani.sudhakar@cloudkaptan.com/CK_DWH_ACCELERATOR/utils/Fetching_Data_From_Salesforce/Salesforce_Cred_And_Bronze_Table_Creation\""
   ]
  },
  {
   "cell_type": "code",
   "execution_count": 0,
   "metadata": {
    "application/vnd.databricks.v1+cell": {
     "cellMetadata": {
      "byteLimit": 2048000,
      "rowLimit": 10000
     },
     "inputWidgets": {},
     "nuid": "a8d92ea1-e64a-4c3e-88eb-631ac39edaa1",
     "showTitle": true,
     "tableResultSettingsMap": {},
     "title": "Silver_Table_Creation"
    }
   },
   "outputs": [],
   "source": [
    "%python\n",
    "# Calling notebook code\n",
    "# selected_tables = dbutils.widgets.get(\"table_name\").split(\",\")\n",
    "# print(f\"Selected tables: {selected_tables}\")\n",
    "\n",
    "selected_tables = ['Application','Contact','Account']\n",
    "\n",
    "value_to_pass = \",\".join(selected_tables)\n",
    "print(f\"Value passed to notebook2: {value_to_pass}\")\n",
    "\n",
    "result = dbutils.notebook.run(\n",
    "    \"/Workspace/Users/suryamani.sudhakar@cloudkaptan.com/CK_DWH_ACCELERATOR/utils/Create_Silver_Tables/Silver_Table_Creation\",\n",
    "    timeout_seconds=60,\n",
    "    arguments={\"value\": value_to_pass}\n",
    ")\n",
    "\n",
    "print(f\"Result from notebook2: {result}\")"
   ]
  },
  {
   "cell_type": "code",
   "execution_count": 0,
   "metadata": {
    "application/vnd.databricks.v1+cell": {
     "cellMetadata": {
      "byteLimit": 2048000,
      "rowLimit": 10000
     },
     "inputWidgets": {},
     "nuid": "49b3e60c-8d5a-4e97-b070-eef5093c42fe",
     "showTitle": true,
     "tableResultSettingsMap": {},
     "title": "Popupating_Silver_Table"
    }
   },
   "outputs": [],
   "source": [
    "%python\n",
    "# Calling notebook code\n",
    "# selected_tables = dbutils.widgets.get(\"table_name\").split(\",\")\n",
    "# print(f\"Selected tables: {selected_tables}\")\n",
    "\n",
    "selected_tables = ['Application','Contact','Account']\n",
    "\n",
    "\n",
    "value_to_pass = \",\".join(selected_tables)\n",
    "print(f\"Value passed to notebook2: {value_to_pass}\")\n",
    "\n",
    "result = dbutils.notebook.run(\n",
    "    \"/Workspace/Users/suryamani.sudhakar@cloudkaptan.com/CK_DWH_ACCELERATOR/utils/Silver_Table_Ingestion/All_Silver_Table_Ingestion\",\n",
    "    timeout_seconds=60,\n",
    "    arguments={\"value\": value_to_pass}\n",
    ")\n",
    "\n",
    "print(f\"Result from notebook2: {result}\")"
   ]
  },
  {
   "cell_type": "code",
   "execution_count": 0,
   "metadata": {
    "application/vnd.databricks.v1+cell": {
     "cellMetadata": {
      "byteLimit": 2048000,
      "rowLimit": 10000
     },
     "inputWidgets": {},
     "nuid": "dc62b1fc-9ce3-45b6-b63e-6e5b07c435af",
     "showTitle": true,
     "tableResultSettingsMap": {},
     "title": "Gold_Table_Creation"
    }
   },
   "outputs": [],
   "source": [
    "%python\n",
    "# Calling notebook code\n",
    "# selected_tables = dbutils.widgets.get(\"table_name\").split(\",\")\n",
    "# print(f\"Selected tables: {selected_tables}\")\n",
    "\n",
    "selected_tables = ['Application','Contact','Account']\n",
    "\n",
    "\n",
    "value_to_pass = \",\".join(selected_tables)\n",
    "print(f\"Value passed to notebook2: {value_to_pass}\")\n",
    "\n",
    "result = dbutils.notebook.run(\n",
    "    \"/Workspace/Users/suryamani.sudhakar@cloudkaptan.com/CK_DWH_ACCELERATOR/utils/Gold_Table/Gold_Table_Creation\",\n",
    "    timeout_seconds=60,\n",
    "    arguments={\"value\": value_to_pass}\n",
    ")\n",
    "\n",
    "print(f\"Result from notebook2: {result}\")"
   ]
  },
  {
   "cell_type": "code",
   "execution_count": 0,
   "metadata": {
    "application/vnd.databricks.v1+cell": {
     "cellMetadata": {
      "byteLimit": 2048000,
      "rowLimit": 10000
     },
     "inputWidgets": {},
     "nuid": "73d4f622-03b3-4971-b6da-b3fb3ba51ed3",
     "showTitle": false,
     "tableResultSettingsMap": {},
     "title": ""
    }
   },
   "outputs": [],
   "source": [
    "%run \"/Workspace/Users/suryamani.sudhakar@cloudkaptan.com/CK_DWH_ACCELERATOR/Creating_New_Cluster\""
   ]
  }
 ],
 "metadata": {
  "application/vnd.databricks.v1+notebook": {
   "computePreferences": null,
   "dashboards": [],
   "environmentMetadata": {
    "base_environment": "",
    "client": "1"
   },
   "language": "python",
   "notebookMetadata": {
    "mostRecentlyExecutedCommandWithImplicitDF": {
     "commandId": 3462957330148590,
     "dataframes": [
      "_sqldf"
     ]
    },
    "pythonIndentUnit": 4
   },
   "notebookName": "RUN_ONCE_AND_ALL",
   "widgets": {}
  },
  "language_info": {
   "name": "python"
  }
 },
 "nbformat": 4,
 "nbformat_minor": 0
}
