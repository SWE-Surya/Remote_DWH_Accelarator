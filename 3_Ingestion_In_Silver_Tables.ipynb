{
 "cells": [
  {
   "cell_type": "code",
   "execution_count": 0,
   "metadata": {
    "application/vnd.databricks.v1+cell": {
     "cellMetadata": {
      "byteLimit": 2048000,
      "implicitDf": true,
      "rowLimit": 10000
     },
     "inputWidgets": {},
     "nuid": "8a013de9-67a7-46ba-9ce3-4d6fc834fb18",
     "showTitle": false,
     "tableResultSettingsMap": {},
     "title": ""
    }
   },
   "outputs": [],
   "source": [
    "dbutils.widgets.multiselect(\"table_name\", \"Select Table\", [\"Select Table\",\"Account\", \"Contact\", \"Application\"], \"Select Table Name\")\n",
    "print(\"Widget created. Please select a table from the dropdown.\")\n",
    "print(dbutils.widgets.get(\"table_name\"))\n"
   ]
  },
  {
   "cell_type": "code",
   "execution_count": 0,
   "metadata": {
    "application/vnd.databricks.v1+cell": {
     "cellMetadata": {
      "byteLimit": 2048000,
      "rowLimit": 10000
     },
     "inputWidgets": {},
     "nuid": "ed9dada1-3034-4251-a449-21bb771a726e",
     "showTitle": false,
     "tableResultSettingsMap": {},
     "title": ""
    }
   },
   "outputs": [],
   "source": [
    "%python\n",
    "# Calling notebook code\n",
    "selected_tables = dbutils.widgets.get(\"table_name\").split(\",\")\n",
    "print(f\"Selected tables: {selected_tables}\")\n",
    "\n",
    "value_to_pass = \",\".join(selected_tables)\n",
    "print(f\"Value passed to notebook2: {value_to_pass}\")\n",
    "\n",
    "result = dbutils.notebook.run(\n",
    "    \"/Workspace/Users/suryamani.sudhakar@cloudkaptan.com/CK_DWH_ACCELERATOR/utils/Silver_Table_Ingestion/All_Silver_Table_Ingestion\",\n",
    "    timeout_seconds=60,\n",
    "    arguments={\"value\": value_to_pass}\n",
    ")\n",
    "\n",
    "print(f\"Result from notebook2: {result}\")"
   ]
  }
 ],
 "metadata": {
  "application/vnd.databricks.v1+notebook": {
   "computePreferences": null,
   "dashboards": [],
   "environmentMetadata": {
    "base_environment": "",
    "client": "1"
   },
   "language": "python",
   "notebookMetadata": {
    "mostRecentlyExecutedCommandWithImplicitDF": {
     "commandId": 1320601673678298,
     "dataframes": [
      "_sqldf"
     ]
    },
    "pythonIndentUnit": 4
   },
   "notebookName": "3_Ingestion_In_Silver_Tables",
   "widgets": {
    "table_name": {
     "currentValue": "Application",
     "nuid": "666800df-64b3-42cb-af4d-76fee09dfd5e",
     "typedWidgetInfo": {
      "autoCreated": false,
      "defaultValue": "Select Table",
      "label": "Select Table Name",
      "name": "table_name",
      "options": {
       "widgetDisplayType": "Dropdown",
       "choices": [
        "Select Table",
        "Account",
        "Contact",
        "Application"
       ],
       "fixedDomain": true,
       "multiselect": true
      },
      "parameterDataType": "String"
     },
     "widgetInfo": {
      "widgetType": "multiselect",
      "defaultValue": "Select Table",
      "label": "Select Table Name",
      "name": "table_name",
      "options": {
       "widgetType": "dropdown",
       "autoCreated": null,
       "choices": [
        "Select Table",
        "Account",
        "Contact",
        "Application"
       ]
      }
     }
    }
   }
  },
  "language_info": {
   "name": "python"
  }
 },
 "nbformat": 4,
 "nbformat_minor": 0
}
