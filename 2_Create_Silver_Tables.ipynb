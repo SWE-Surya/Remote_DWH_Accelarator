{
 "cells": [
  {
   "cell_type": "code",
   "execution_count": 0,
   "metadata": {
    "application/vnd.databricks.v1+cell": {
     "cellMetadata": {
      "byteLimit": 2048000,
      "rowLimit": 10000
     },
     "inputWidgets": {},
     "nuid": "fdefb0a5-a07b-4ba4-8512-6865714a09d8",
     "showTitle": false,
     "tableResultSettingsMap": {},
     "title": ""
    }
   },
   "outputs": [],
   "source": [
    "%python\n",
    "dbutils.widgets.multiselect(\"table_name\", \"Select Table\", [\"Select Table\",\"Account\", \"Contact\", \"Application\"], \"Select Table Name\")\n",
    "print(\"Widget created. Please select a table from the dropdown.\")\n",
    "print(dbutils.widgets.get(\"table_name\"))\n"
   ]
  },
  {
   "cell_type": "code",
   "execution_count": 0,
   "metadata": {
    "application/vnd.databricks.v1+cell": {
     "cellMetadata": {
      "byteLimit": 2048000,
      "rowLimit": 10000
     },
     "inputWidgets": {},
     "nuid": "30239357-dc4b-472e-9aca-dcbd69a977cb",
     "showTitle": false,
     "tableResultSettingsMap": {},
     "title": ""
    }
   },
   "outputs": [],
   "source": [
    "%python\n",
    "# Calling notebook code\n",
    "selected_tables = dbutils.widgets.get(\"table_name\").split(\",\")\n",
    "print(f\"Selected tables: {selected_tables}\")\n",
    "\n",
    "value_to_pass = \",\".join(selected_tables)\n",
    "print(f\"Value passed to notebook2: {value_to_pass}\")\n",
    "\n",
    "result = dbutils.notebook.run(\n",
    "    \"/Workspace/Users/suryamani.sudhakar@cloudkaptan.com/CK_DWH_ACCELERATOR/utils/Create_Silver_Tables/Silver_Table_Creation\",\n",
    "    timeout_seconds=60,\n",
    "    arguments={\"value\": value_to_pass}\n",
    ")\n",
    "\n",
    "print(f\"Result from notebook2: {result}\")"
   ]
  }
 ],
 "metadata": {
  "application/vnd.databricks.v1+notebook": {
   "computePreferences": null,
   "dashboards": [],
   "environmentMetadata": {
    "base_environment": "",
    "client": "1"
   },
   "language": "sql",
   "notebookMetadata": {
    "pythonIndentUnit": 4
   },
   "notebookName": "2_Create_Silver_Tables",
   "widgets": {
    "table_name": {
     "currentValue": "Select Table,Account,Contact,Application",
     "nuid": "bb5d7bc6-05e8-48f9-8910-142d6cf08d9c",
     "typedWidgetInfo": {
      "autoCreated": false,
      "defaultValue": "Select Table",
      "label": "Select Table Name",
      "name": "table_name",
      "options": {
       "widgetDisplayType": "Dropdown",
       "choices": [
        "Select Table",
        "Account",
        "Contact",
        "Application"
       ],
       "fixedDomain": true,
       "multiselect": true
      },
      "parameterDataType": "String"
     },
     "widgetInfo": {
      "widgetType": "multiselect",
      "defaultValue": "Select Table",
      "label": "Select Table Name",
      "name": "table_name",
      "options": {
       "widgetType": "dropdown",
       "autoCreated": null,
       "choices": [
        "Select Table",
        "Account",
        "Contact",
        "Application"
       ]
      }
     }
    }
   }
  },
  "language_info": {
   "name": "sql"
  }
 },
 "nbformat": 4,
 "nbformat_minor": 0
}
